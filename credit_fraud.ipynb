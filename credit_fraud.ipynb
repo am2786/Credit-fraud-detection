{
 "cells": [
  {
   "cell_type": "markdown",
   "metadata": {},
   "source": [
    "I initially was using ensemlbe models but I found that toying with the hyperparameters a little bit more actually gave me an even better model, so my final model is made with the extratrees classifier. I still used 10-fold cv and got an average recall of 93% (2% lower than the ensemble model) and precision of 86% (10% higher than the ensemble model). "
   ]
  },
  {
   "cell_type": "code",
   "execution_count": 2,
   "metadata": {
    "collapsed": true
   },
   "outputs": [],
   "source": [
    "import numpy as np\n",
    "import pandas as pd\n",
    "import matplotlib.pyplot as plt\n",
    "% matplotlib inline\n",
    "import seaborn as sns;\n",
    "np.random.seed(30)"
   ]
  },
  {
   "cell_type": "markdown",
   "metadata": {},
   "source": [
    "## Loading in data"
   ]
  },
  {
   "cell_type": "code",
   "execution_count": 3,
   "metadata": {
    "collapsed": true
   },
   "outputs": [],
   "source": [
    "data = pd.read_csv('creditcard.csv')"
   ]
  },
  {
   "cell_type": "code",
   "execution_count": 4,
   "metadata": {},
   "outputs": [
    {
     "name": "stdout",
     "output_type": "stream",
     "text": [
      "Fraud\n",
      "count     492.000000\n",
      "mean      122.211321\n",
      "std       256.683288\n",
      "min         0.000000\n",
      "25%         1.000000\n",
      "50%         9.250000\n",
      "75%       105.890000\n",
      "max      2125.870000\n",
      "Name: Amount, dtype: float64\n",
      "$ 60127.97 withdrawn\n",
      "\n",
      "\n",
      "Normal\n",
      "count    284315.000000\n",
      "mean         88.291022\n",
      "std         250.105092\n",
      "min           0.000000\n",
      "25%           5.650000\n",
      "50%          22.000000\n",
      "75%          77.050000\n",
      "max       25691.160000\n",
      "Name: Amount, dtype: float64\n",
      "$ 25102462.04 withdrawn\n"
     ]
    }
   ],
   "source": [
    "print (\"Fraud\")\n",
    "print (data.Amount[data.Class == 1].describe())\n",
    "print \"$\",(data.Amount[data.Class == 1].sum()), \"withdrawn\"\n",
    "print (\"\\n\")\n",
    "print (\"Normal\")\n",
    "print (data.Amount[data.Class == 0].describe())\n",
    "print \"$\",(data.Amount[data.Class == 0].sum()), \"withdrawn\""
   ]
  },
  {
   "cell_type": "markdown",
   "metadata": {},
   "source": [
    "## Dividing into features and output"
   ]
  },
  {
   "cell_type": "code",
   "execution_count": 5,
   "metadata": {
    "collapsed": true
   },
   "outputs": [],
   "source": [
    "X = data.drop('Class', axis = 1)\n",
    "y = data['Class']\n"
   ]
  },
  {
   "cell_type": "markdown",
   "metadata": {},
   "source": [
    "## Undersampling code"
   ]
  },
  {
   "cell_type": "code",
   "execution_count": 6,
   "metadata": {
    "collapsed": true
   },
   "outputs": [],
   "source": [
    "def under_sample(data):\n",
    "    \n",
    "    #Getting the indeces of fraud and normal transactions \n",
    "    fraud_indices = np.array(data[data.Class == 1].index)\n",
    "    normal_indices = data[data.Class == 0].index\n",
    "\n",
    "    # Randomly selecting 492 normal transactions (equal to the amount of fraud transactions)\n",
    "    random_normal_indices = np.random.choice(normal_indices, \n",
    "                                             len(data[data.Class == 1]), replace = False)\n",
    "\n",
    "\n",
    "    # Under sample dataset\n",
    "    data_under_sample = data.iloc[np.concatenate([fraud_indices,random_normal_indices])]\n",
    "\n",
    "\n",
    "    X_undersample = data_under_sample.drop('Class', axis = 1)\n",
    "    Y_undersample = data_under_sample['Class']\n",
    "    \n",
    "    return(X_undersample, Y_undersample)"
   ]
  },
  {
   "cell_type": "code",
   "execution_count": 7,
   "metadata": {
    "collapsed": true
   },
   "outputs": [],
   "source": [
    "X_undersample, y_undersample = under_sample(data)"
   ]
  },
  {
   "cell_type": "markdown",
   "metadata": {},
   "source": [
    "## Test train split for full and under sampled datasets"
   ]
  },
  {
   "cell_type": "code",
   "execution_count": 8,
   "metadata": {
    "collapsed": true
   },
   "outputs": [],
   "source": [
    "from sklearn.cross_validation import train_test_split\n",
    "\n",
    "# Whole dataset\n",
    "X_train, X_test, y_train, y_test = train_test_split(X,y,test_size = 0.3, random_state = 30)\n",
    "\n",
    "\n",
    "# Undersampled dataset\n",
    "X_train_undersample, X_test_undersample, y_train_undersample, y_test_undersample = train_test_split(X_undersample\n",
    "                                                                                                   ,y_undersample\n",
    "                                                                                                   ,test_size = 0.3\n",
    "                                                                                                   ,random_state = 30)\n",
    "\n"
   ]
  },
  {
   "cell_type": "code",
   "execution_count": 9,
   "metadata": {
    "collapsed": true
   },
   "outputs": [],
   "source": [
    "from sklearn.cross_validation import KFold, cross_val_score\n",
    "from sklearn.metrics import confusion_matrix,precision_recall_curve,auc,roc_auc_score,roc_curve,recall_score,classification_report "
   ]
  },
  {
   "cell_type": "markdown",
   "metadata": {},
   "source": [
    "## Confusion matrix code"
   ]
  },
  {
   "cell_type": "code",
   "execution_count": 10,
   "metadata": {
    "collapsed": true
   },
   "outputs": [],
   "source": [
    "import itertools\n",
    "\n",
    "def plot_confusion_matrix(cm, classes,\n",
    "                          normalize=False,\n",
    "                          title='Confusion matrix',\n",
    "                          cmap=plt.cm.Blues):\n",
    "    \"\"\"\n",
    "    This function prints and plots the confusion matrix.\n",
    "    Normalization can be applied by setting `normalize=True`.\n",
    "    \"\"\"\n",
    "    plt.imshow(cm, interpolation='nearest', cmap=cmap)\n",
    "    plt.title(title)\n",
    "    plt.colorbar()\n",
    "    tick_marks = np.arange(len(classes))\n",
    "    plt.xticks(tick_marks, classes, rotation=0)\n",
    "    plt.yticks(tick_marks, classes)\n",
    "\n",
    "    if normalize:\n",
    "        cm = cm.astype('float') / cm.sum(axis=1)[:, np.newaxis]\n",
    "        \n",
    "    else:\n",
    "        1\n",
    "\n",
    "    thresh = cm.max() / 2.\n",
    "    for i, j in itertools.product(range(cm.shape[0]), range(cm.shape[1])):\n",
    "        plt.text(j, i, cm[i, j],\n",
    "                 horizontalalignment=\"center\",\n",
    "                 color=\"white\" if cm[i, j] > thresh else \"black\")\n",
    "\n",
    "    plt.tight_layout()\n",
    "    plt.ylabel('True label')\n",
    "    plt.xlabel('Predicted label')"
   ]
  },
  {
   "cell_type": "markdown",
   "metadata": {},
   "source": [
    "## Personal function that calculates precision and accuracy"
   ]
  },
  {
   "cell_type": "code",
   "execution_count": 11,
   "metadata": {
    "collapsed": true
   },
   "outputs": [],
   "source": [
    "def precision_recall( y_test, prediction):\n",
    "    true_positives  =  np.float(np.sum( (prediction == 1) & (y_test == 1)) )\n",
    "    \n",
    "    \n",
    "    false_positives =  np.float(np.sum( (prediction == 1) & (y_test == 0)) )\n",
    "    false_negatives =  np.float(np.sum( (prediction == 0) & (y_test == 1)) )\n",
    "    \n",
    "    \n",
    "    precision = true_positives/(true_positives + false_positives)\n",
    "    recall =  true_positives/(true_positives + false_negatives)\n",
    "    \n",
    "    \n",
    "    precision = round(100*precision, 3)\n",
    "    recall = round(100*recall, 3)\n",
    "    \n",
    "    return(precision, recall)"
   ]
  },
  {
   "cell_type": "code",
   "execution_count": 12,
   "metadata": {
    "collapsed": true
   },
   "outputs": [],
   "source": [
    "from sklearn.preprocessing import PolynomialFeatures\n",
    "from sklearn.preprocessing import StandardScaler\n",
    "from sklearn.linear_model import LogisticRegression\n",
    "from sklearn.svm import SVC, LinearSVC\n",
    "from sklearn.ensemble import RandomForestClassifier\n",
    "from sklearn.neighbors import KNeighborsClassifier\n",
    "from sklearn.ensemble import GradientBoostingClassifier\n",
    "from sklearn.naive_bayes import GaussianNB\n",
    "from sklearn.metrics import roc_auc_score\n",
    "from sklearn.metrics import roc_curve\n",
    "from sklearn.metrics import auc\n",
    "from sklearn.ensemble import ExtraTreesClassifier \n",
    "from sklearn.ensemble import AdaBoostClassifier"
   ]
  },
  {
   "cell_type": "markdown",
   "metadata": {},
   "source": [
    "## Testing different models"
   ]
  },
  {
   "cell_type": "code",
   "execution_count": 13,
   "metadata": {},
   "outputs": [
    {
     "data": {
      "image/png": "[encoded data removed]",
      "text/plain": [
       "<matplotlib.figure.Figure at 0x1158a5b90>"
      ]
     },
     "metadata": {},
     "output_type": "display_data"
    },
    {
     "name": "stdout",
     "output_type": "stream",
     "text": [
      "precision, recall =  (5.62, 91.195)\n"
     ]
    }
   ],
   "source": [
    "logreg = LogisticRegression()\n",
    "logreg.fit(X_train_undersample,y_train_undersample.values.ravel())\n",
    "y_pred_logreg = logreg.predict(X_test.values)\n",
    "# Compute confusion matrix\n",
    "cnf_matrix = confusion_matrix(y_test,y_pred_logreg)\n",
    "np.set_printoptions(precision=2)\n",
    "# Plot non-normalized confusion matrix\n",
    "class_names = [0,1]\n",
    "plt.figure()\n",
    "plot_confusion_matrix(cnf_matrix\n",
    "                      , classes=class_names\n",
    "                      , title='Logistic Regression')\n",
    "plt.show()\n",
    "\n",
    "print \"precision, recall = \", precision_recall( y_test, y_pred_logreg)"
   ]
  },
  {
   "cell_type": "code",
   "execution_count": 14,
   "metadata": {},
   "outputs": [
    {
     "data": {
      "image/png": "[encoded data removed]",
      "text/plain": [
       "<matplotlib.figure.Figure at 0x117810610>"
      ]
     },
     "metadata": {},
     "output_type": "display_data"
    },
    {
     "name": "stdout",
     "output_type": "stream",
     "text": [
      "precision, recall =  (6.635, 98.113)\n"
     ]
    }
   ],
   "source": [
    "randomforest = RandomForestClassifier(n_estimators=500)\n",
    "randomforest.fit(X_train_undersample,y_train_undersample.values.ravel())\n",
    "y_pred_randomforest = randomforest.predict(X_test.values)\n",
    "# Compute confusion matrix\n",
    "cnf_matrix = confusion_matrix(y_test,y_pred_randomforest)\n",
    "np.set_printoptions(precision=2)\n",
    "# Plot non-normalized confusion matrix\n",
    "class_names = [0,1]\n",
    "plt.figure()\n",
    "plot_confusion_matrix(cnf_matrix\n",
    "                      , classes=class_names\n",
    "                      , title='Random Forest')\n",
    "plt.show()\n",
    "\n",
    "print \"precision, recall = \", precision_recall( y_test, y_pred_randomforest)"
   ]
  },
  {
   "cell_type": "code",
   "execution_count": 15,
   "metadata": {},
   "outputs": [
    {
     "data": {
      "image/png": "[encoded data removed]",
      "text/plain": [
       "<matplotlib.figure.Figure at 0x1178e5bd0>"
      ]
     },
     "metadata": {},
     "output_type": "display_data"
    },
    {
     "name": "stdout",
     "output_type": "stream",
     "text": [
      "precision, recall =  (5.081, 84.906)\n"
     ]
    }
   ],
   "source": [
    "naivebayes =  GaussianNB()\n",
    "naivebayes.fit(X_train_undersample,y_train_undersample.values.ravel())\n",
    "y_pred_naivebayes = naivebayes.predict(X_test.values)\n",
    "\n",
    "# Compute confusion matrix\n",
    "cnf_matrix = confusion_matrix(y_test,y_pred_naivebayes)\n",
    "np.set_printoptions(precision=2)\n",
    "\n",
    "# Plot non-normalized confusion matrix\n",
    "class_names = [0,1]\n",
    "plt.figure()\n",
    "plot_confusion_matrix(cnf_matrix\n",
    "                      , classes=class_names\n",
    "                      , title='Naive Bayes')\n",
    "plt.show()\n",
    "\n",
    "print \"precision, recall = \", precision_recall( y_test, y_pred_naivebayes)"
   ]
  },
  {
   "cell_type": "code",
   "execution_count": 16,
   "metadata": {},
   "outputs": [
    {
     "data": {
      "image/png": "[encoded data removed]",
      "text/plain": [
       "<matplotlib.figure.Figure at 0x117a5c9d0>"
      ]
     },
     "metadata": {},
     "output_type": "display_data"
    },
    {
     "name": "stdout",
     "output_type": "stream",
     "text": [
      "precision, recall =  (3.891, 98.742)\n"
     ]
    }
   ],
   "source": [
    "boost =  GradientBoostingClassifier( n_estimators=2000)\n",
    "boost.fit(X_train_undersample,y_train_undersample.values.ravel())\n",
    "y_pred_boost = boost.predict(X_test.values)\n",
    "# Compute confusion matrix\n",
    "cnf_matrix = confusion_matrix(y_test,y_pred_boost)\n",
    "np.set_printoptions(precision=2)\n",
    "# Plot non-normalized confusion matrix\n",
    "class_names = [0,1]\n",
    "plt.figure()\n",
    "plot_confusion_matrix(cnf_matrix\n",
    "                      , classes=class_names\n",
    "                      , title='Gradient Boosting')\n",
    "plt.show()\n",
    "\n",
    "print \"precision, recall = \", precision_recall( y_test, y_pred_boost)"
   ]
  },
  {
   "cell_type": "code",
   "execution_count": 17,
   "metadata": {},
   "outputs": [
    {
     "data": {
      "image/png": "[encoded data removed]",
      "text/plain": [
       "<matplotlib.figure.Figure at 0x119049850>"
      ]
     },
     "metadata": {},
     "output_type": "display_data"
    },
    {
     "name": "stdout",
     "output_type": "stream",
     "text": [
      "precision, recall =  (9.472, 98.113)\n"
     ]
    }
   ],
   "source": [
    "extratrees =  ExtraTreesClassifier(n_estimators=2000, criterion='entropy')\n",
    "extratrees.fit(X_train_undersample,y_train_undersample.values.ravel())\n",
    "y_pred_extratrees = extratrees.predict(X_test.values)\n",
    "\n",
    "# Compute confusion matrix\n",
    "cnf_matrix = confusion_matrix(y_test,y_pred_extratrees)\n",
    "np.set_printoptions(precision=2)\n",
    "\n",
    "# Plot non-normalized confusion matrix\n",
    "class_names = [0,1]\n",
    "plt.figure()\n",
    "plot_confusion_matrix(cnf_matrix\n",
    "                      , classes=class_names\n",
    "                      , title='Extra Trees')\n",
    "plt.show()\n",
    "\n",
    "print \"precision, recall = \", precision_recall( y_test, y_pred_extratrees)"
   ]
  },
  {
   "cell_type": "code",
   "execution_count": 18,
   "metadata": {},
   "outputs": [
    {
     "data": {
      "image/png": "[encoded data removed]",
      "text/plain": [
       "<matplotlib.figure.Figure at 0x11bdfb250>"
      ]
     },
     "metadata": {},
     "output_type": "display_data"
    },
    {
     "name": "stdout",
     "output_type": "stream",
     "text": [
      "precision, recall =  (2.956, 98.113)\n"
     ]
    }
   ],
   "source": [
    "ada =  AdaBoostClassifier( n_estimators=2000)\n",
    "ada.fit(X_train_undersample,y_train_undersample.values.ravel())\n",
    "y_pred_ada = ada.predict(X_test.values)\n",
    "\n",
    "# Compute confusion matrix\n",
    "cnf_matrix = confusion_matrix(y_test,y_pred_ada)\n",
    "np.set_printoptions(precision=2)\n",
    "\n",
    "# Plot non-normalized confusion matrix\n",
    "class_names = [0,1]\n",
    "plt.figure()\n",
    "plot_confusion_matrix(cnf_matrix\n",
    "                      , classes=class_names\n",
    "                      , title='ADA Boost')\n",
    "plt.show()\n",
    "\n",
    "print \"precision, recall = \", precision_recall( y_test, y_pred_ada)"
   ]
  },
  {
   "cell_type": "code",
   "execution_count": 19,
   "metadata": {},
   "outputs": [
    {
     "data": {
      "image/png": "[encoded data removed]",
      "text/plain": [
       "<matplotlib.figure.Figure at 0x11bdfb610>"
      ]
     },
     "metadata": {},
     "output_type": "display_data"
    },
    {
     "name": "stdout",
     "output_type": "stream",
     "text": [
      "precision, recall =  (0.418, 89.308)\n"
     ]
    }
   ],
   "source": [
    "n_neighbors = 1\n",
    "knn1 = KNeighborsClassifier(n_neighbors = n_neighbors)\n",
    "knn1.fit(X_train_undersample,y_train_undersample.values.ravel())\n",
    "y_pred_knn1 = knn1.predict(X_test.values)\n",
    "\n",
    "# Compute confusion matrix\n",
    "cnf_matrix = confusion_matrix(y_test,y_pred_knn1)\n",
    "np.set_printoptions(precision=2)\n",
    "\n",
    "# Plot non-normalized confusion matrix\n",
    "class_names = [0,1]\n",
    "plt.figure()\n",
    "plot_confusion_matrix(cnf_matrix\n",
    "                      , classes=class_names\n",
    "                      , title='KNN, neighbors = %s' %n_neighbors)\n",
    "plt.show()\n",
    "\n",
    "print \"precision, recall = \", precision_recall( y_test, y_pred_knn1)"
   ]
  },
  {
   "cell_type": "markdown",
   "metadata": {},
   "source": [
    "## Plotting ROC curves"
   ]
  },
  {
   "cell_type": "code",
   "execution_count": 20,
   "metadata": {
    "collapsed": true
   },
   "outputs": [],
   "source": [
    "\n",
    "Y_score_logreg = logreg.predict_proba(X_test)[:,1]\n",
    "fpr_logreg, tpr_logreg, _ = roc_curve(y_test, Y_score_logreg)\n",
    "\n",
    "Y_score_boost = boost.predict_proba(X_test)[:,1]\n",
    "fpr_boost, tpr_boost, _ = roc_curve(y_test, Y_score_boost)\n",
    "\n",
    "Y_score_naivebayes = naivebayes.predict_proba(X_test)[:,1]\n",
    "fpr_naivebayes, tpr_naivebayes, _ = roc_curve(y_test, Y_score_naivebayes)\n",
    "\n",
    "Y_score_randomforest = randomforest.predict_proba(X_test)[:,1]\n",
    "fpr_randomforest, tpr_randomforest, _ = roc_curve(y_test, Y_score_randomforest)\n",
    "\n",
    "Y_score_ada = ada.predict_proba(X_test)[:,1]\n",
    "fpr_ada, tpr_ada, _ = roc_curve(y_test, Y_score_ada)\n",
    "\n",
    "Y_score_knn1 = knn1.predict_proba(X_test)[:,1]\n",
    "fpr_knn1, tpr_knn1, _ = roc_curve(y_test, Y_score_knn1)\n",
    "\n",
    "Y_score_extratrees = extratrees.predict_proba(X_test)[:,1]\n",
    "fpr_extratrees , tpr_extratrees , _ = roc_curve(y_test, Y_score_extratrees )\n"
   ]
  },
  {
   "cell_type": "code",
   "execution_count": 21,
   "metadata": {
    "scrolled": true
   },
   "outputs": [
    {
     "data": {
      "image/png": "[encoded data removed]",
      "text/plain": [
       "<matplotlib.figure.Figure at 0x11b766410>"
      ]
     },
     "metadata": {},
     "output_type": "display_data"
    }
   ],
   "source": [
    " \n",
    "        \n",
    "plt.style.use('bmh')\n",
    "fig = plt.figure(1, figsize = (4,3))\n",
    "fig.add_axes([0.2,0.2,0.75,0.75])\n",
    "plt.title('ROC curve')\n",
    "plt.plot(fpr_logreg, tpr_logreg, label = 'Logistic Regression' )\n",
    "plt.plot(fpr_boost, tpr_boost, label = 'gradient boosting' )\n",
    "plt.plot(fpr_naivebayes, tpr_naivebayes, label = 'Naive bayes' )\n",
    "plt.plot(fpr_knn1, tpr_knn1, label = 'KNN')\n",
    "plt.plot(fpr_extratrees , tpr_extratrees, label = 'Extra Trees')\n",
    "plt.plot(fpr_ada, tpr_ada, label = 'ADA')\n",
    "plt.plot(np.linspace(0., 1., 10), np.linspace(0., 1., 10), ls = '--', color = 'k')\n",
    "plt.plot(fpr_randomforest, tpr_randomforest, label = 'Random Forest')\n",
    "plt.legend(loc = 'lower right', fontsize = 8)\n",
    "plt.xlabel('False positive rate')\n",
    "plt.ylabel('True positive rate')\n",
    "plt.savefig('temp.png', transparent=True)\n",
    "\n"
   ]
  },
  {
   "cell_type": "markdown",
   "metadata": {},
   "source": [
    "## Calculating the AUC for different models"
   ]
  },
  {
   "cell_type": "code",
   "execution_count": 22,
   "metadata": {
    "collapsed": true
   },
   "outputs": [],
   "source": [
    "roc_auc_logreg       = roc_auc_score(y_test, Y_score_logreg      )\n",
    "roc_auc_randomforest = roc_auc_score(y_test, Y_score_randomforest)\n",
    "roc_auc_ada          = roc_auc_score(y_test, Y_score_ada)\n",
    "roc_auc_extratrees   = roc_auc_score(y_test, Y_score_extratrees)\n",
    "roc_auc_knn1         = roc_auc_score(y_test, Y_score_knn1)\n",
    "roc_auc_naivebayes   = roc_auc_score(y_test, Y_score_naivebayes)\n",
    "roc_auc_boost        = roc_auc_score(y_test, Y_score_boost)"
   ]
  },
  {
   "cell_type": "code",
   "execution_count": 23,
   "metadata": {
    "collapsed": true
   },
   "outputs": [],
   "source": [
    "models = pd.DataFrame({\n",
    "    'Model': ['Logistic Regression', \n",
    "              'Random Forest', 'Naive Bayes', \n",
    "                'Gradient Boost', 'KNN', 'ADA Boost',\n",
    "                  'Extra Trees'],\n",
    "\n",
    "    'AUC': [ roc_auc_logreg, \n",
    "         roc_auc_randomforest, roc_auc_naivebayes,\n",
    "          roc_auc_boost, roc_auc_knn1, roc_auc_ada,\n",
    "        roc_auc_extratrees\n",
    "               \n",
    "    ]})"
   ]
  },
  {
   "cell_type": "code",
   "execution_count": 24,
   "metadata": {},
   "outputs": [
    {
     "data": {
      "text/html": [
       "<div>\n",
       "<style>\n",
       "    .dataframe thead tr:only-child th {\n",
       "        text-align: right;\n",
       "    }\n",
       "\n",
       "    .dataframe thead th {\n",
       "        text-align: left;\n",
       "    }\n",
       "\n",
       "    .dataframe tbody tr th {\n",
       "        vertical-align: top;\n",
       "    }\n",
       "</style>\n",
       "<table border=\"1\" class=\"dataframe\">\n",
       "  <thead>\n",
       "    <tr style=\"text-align: right;\">\n",
       "      <th></th>\n",
       "      <th>AUC</th>\n",
       "      <th>Model</th>\n",
       "    </tr>\n",
       "  </thead>\n",
       "  <tbody>\n",
       "    <tr>\n",
       "      <th>0</th>\n",
       "      <td>0.972987</td>\n",
       "      <td>Logistic Regression</td>\n",
       "    </tr>\n",
       "    <tr>\n",
       "      <th>1</th>\n",
       "      <td>0.997012</td>\n",
       "      <td>Random Forest</td>\n",
       "    </tr>\n",
       "    <tr>\n",
       "      <th>2</th>\n",
       "      <td>0.932538</td>\n",
       "      <td>Naive Bayes</td>\n",
       "    </tr>\n",
       "    <tr>\n",
       "      <th>3</th>\n",
       "      <td>0.995932</td>\n",
       "      <td>Gradient Boost</td>\n",
       "    </tr>\n",
       "    <tr>\n",
       "      <th>4</th>\n",
       "      <td>0.748110</td>\n",
       "      <td>KNN</td>\n",
       "    </tr>\n",
       "    <tr>\n",
       "      <th>5</th>\n",
       "      <td>0.993246</td>\n",
       "      <td>ADA Boost</td>\n",
       "    </tr>\n",
       "    <tr>\n",
       "      <th>6</th>\n",
       "      <td>0.997886</td>\n",
       "      <td>Extra Trees</td>\n",
       "    </tr>\n",
       "  </tbody>\n",
       "</table>\n",
       "</div>"
      ],
      "text/plain": [
       "        AUC                Model\n",
       "0  0.972987  Logistic Regression\n",
       "1  0.997012        Random Forest\n",
       "2  0.932538          Naive Bayes\n",
       "3  0.995932       Gradient Boost\n",
       "4  0.748110                  KNN\n",
       "5  0.993246            ADA Boost\n",
       "6  0.997886          Extra Trees"
      ]
     },
     "execution_count": 24,
     "metadata": {},
     "output_type": "execute_result"
    }
   ],
   "source": [
    "models"
   ]
  },
  {
   "cell_type": "markdown",
   "metadata": {},
   "source": [
    "## Looking at model recall and precision for different thresholds"
   ]
  },
  {
   "cell_type": "code",
   "execution_count": 50,
   "metadata": {
    "collapsed": true
   },
   "outputs": [],
   "source": [
    "n_bins = 20\n",
    "def f(y_test, Y_score, n_bins, method):\n",
    "   \n",
    "    precisions = []\n",
    "    recalls = []\n",
    "    for i in np.linspace(0., 0.99, n_bins):\n",
    "        print i\n",
    "        limit  = i\n",
    "        Y_score_new = 1.*Y_score\n",
    "        Y_score_new[Y_score_new < limit] = 0.\n",
    "        Y_score_new[Y_score_new > limit] = 1.\n",
    "        precision, recall =  precision_recall(y_test, Y_score_new)\n",
    "        precisions.append(precisions)\n",
    "        recalls.append(recall)\n",
    "        \n",
    "    \n",
    "    threshold_data = pd.DataFrame(np.linspace(0., 0.99, n_bins), columns = ['Threshold'])\n",
    "    \n",
    "    threshold_data['Precision'] = np.array(precisions)\n",
    "    threshold_data['Recall'] = np.array(recalls)\n",
    "                                  \n",
    "    #print method\n",
    "    #threshold_data"
   ]
  },
  {
   "cell_type": "code",
   "execution_count": null,
   "metadata": {
    "collapsed": true
   },
   "outputs": [],
   "source": [
    "def f(y_test, Y_score, n_bins, method):\n",
    "    print method\n",
    "    precisions = []\n",
    "    recalls = []\n",
    "    for i in np.linspace(0., 0.99, n_bins):\n",
    "        print i\n",
    "        limit  = i\n",
    "        Y_score_new = 1.*Y_score\n",
    "        Y_score_new[Y_score_new < limit] = 0.\n",
    "        Y_score_new[Y_score_new > limit] = 1.\n",
    "        print i, precision_recall(y_test, Y_score_new)\n",
    "\n",
    "        \n",
    "\n"
   ]
  },
  {
   "cell_type": "code",
   "execution_count": 27,
   "metadata": {
    "collapsed": true
   },
   "outputs": [],
   "source": [
    "def thresholds(y_test, Y_score, n_bins, method):\n",
    "    print method\n",
    "    precisions = []\n",
    "    recalls = []\n",
    "    for i in np.linspace(0., 0.99, n_bins):\n",
    "        limit  = i\n",
    "        Y_score_new = 1.*Y_score\n",
    "        Y_score_new[Y_score_new < limit] = 0.\n",
    "        Y_score_new[Y_score_new > limit] = 1.\n",
    "        print i, precision_recall(y_test, Y_score_new)\n",
    "        "
   ]
  },
  {
   "cell_type": "code",
   "execution_count": 28,
   "metadata": {},
   "outputs": [
    {
     "name": "stdout",
     "output_type": "stream",
     "text": [
      "random forest\n",
      "0.0 (0.188, 100.0)\n",
      "0.0521052631579 (0.327, 100.0)\n",
      "0.104210526316 (0.479, 100.0)\n",
      "0.156315789474 (0.664, 100.0)\n",
      "0.208421052632 (0.916, 99.371)\n",
      "0.260526315789 (1.291, 99.371)\n",
      "0.312631578947 (1.794, 98.742)\n",
      "0.364736842105 (2.577, 98.742)\n",
      "0.416842105263 (3.719, 98.742)\n",
      "0.468947368421 (5.362, 98.742)\n",
      "0.521052631579 (7.708, 98.113)\n",
      "0.573157894737 (11.372, 97.484)\n",
      "0.625263157895 (16.595, 97.484)\n",
      "0.677368421053 (21.408, 95.597)\n",
      "0.729473684211 (29.077, 93.082)\n",
      "0.781578947368 (36.667, 89.937)\n",
      "0.833684210526 (53.282, 86.792)\n",
      "0.885789473684 (78.409, 86.792)\n",
      "0.937894736842 (84.375, 84.906)\n",
      "0.99 (88.333, 68.831)\n"
     ]
    }
   ],
   "source": [
    "thresholds(y_test, Y_score_randomforest, 20, 'random forest')"
   ]
  },
  {
   "cell_type": "code",
   "execution_count": 29,
   "metadata": {},
   "outputs": [
    {
     "name": "stdout",
     "output_type": "stream",
     "text": [
      "ada\n",
      "0.0 (0.186, 100.0)\n",
      "0.0521052631579 (0.186, 100.0)\n",
      "0.104210526316 (0.186, 100.0)\n",
      "0.156315789474 (0.186, 100.0)\n",
      "0.208421052632 (0.186, 100.0)\n",
      "0.260526315789 (0.186, 100.0)\n",
      "0.312631578947 (0.186, 100.0)\n",
      "0.364736842105 (0.186, 100.0)\n",
      "0.416842105263 (0.186, 100.0)\n",
      "0.468947368421 (0.215, 100.0)\n",
      "0.521052631579 (30.534, 75.472)\n",
      "0.573157894737"
     ]
    },
    {
     "ename": "ZeroDivisionError",
     "evalue": "float division by zero",
     "output_type": "error",
     "traceback": [
      "\u001b[0;31m---------------------------------------------------------------------------\u001b[0m",
      "\u001b[0;31mZeroDivisionError\u001b[0m                         Traceback (most recent call last)",
      "\u001b[0;32m<ipython-input-29-515efe90275c>\u001b[0m in \u001b[0;36m<module>\u001b[0;34m()\u001b[0m\n\u001b[0;32m----> 1\u001b[0;31m \u001b[0mthresholds\u001b[0m\u001b[0;34m(\u001b[0m\u001b[0my_test\u001b[0m\u001b[0;34m,\u001b[0m \u001b[0mY_score_ada\u001b[0m\u001b[0;34m,\u001b[0m \u001b[0;36m20\u001b[0m\u001b[0;34m,\u001b[0m \u001b[0;34m'ada'\u001b[0m\u001b[0;34m)\u001b[0m\u001b[0;34m\u001b[0m\u001b[0m\n\u001b[0m",
      "\u001b[0;32m<ipython-input-27-ffa2e748ff0f>\u001b[0m in \u001b[0;36mthresholds\u001b[0;34m(y_test, Y_score, n_bins, method)\u001b[0m\n\u001b[1;32m      8\u001b[0m         \u001b[0mY_score_new\u001b[0m\u001b[0;34m[\u001b[0m\u001b[0mY_score_new\u001b[0m \u001b[0;34m<\u001b[0m \u001b[0mlimit\u001b[0m\u001b[0;34m]\u001b[0m \u001b[0;34m=\u001b[0m \u001b[0;36m0.\u001b[0m\u001b[0;34m\u001b[0m\u001b[0m\n\u001b[1;32m      9\u001b[0m         \u001b[0mY_score_new\u001b[0m\u001b[0;34m[\u001b[0m\u001b[0mY_score_new\u001b[0m \u001b[0;34m>\u001b[0m \u001b[0mlimit\u001b[0m\u001b[0;34m]\u001b[0m \u001b[0;34m=\u001b[0m \u001b[0;36m1.\u001b[0m\u001b[0;34m\u001b[0m\u001b[0m\n\u001b[0;32m---> 10\u001b[0;31m         \u001b[0;32mprint\u001b[0m \u001b[0mi\u001b[0m\u001b[0;34m,\u001b[0m \u001b[0mprecision_recall\u001b[0m\u001b[0;34m(\u001b[0m\u001b[0my_test\u001b[0m\u001b[0;34m,\u001b[0m \u001b[0mY_score_new\u001b[0m\u001b[0;34m)\u001b[0m\u001b[0;34m\u001b[0m\u001b[0m\n\u001b[0m\u001b[1;32m     11\u001b[0m \u001b[0;34m\u001b[0m\u001b[0m\n",
      "\u001b[0;32m<ipython-input-11-ac50fa39dd47>\u001b[0m in \u001b[0;36mprecision_recall\u001b[0;34m(y_test, prediction)\u001b[0m\n\u001b[1;32m      7\u001b[0m \u001b[0;34m\u001b[0m\u001b[0m\n\u001b[1;32m      8\u001b[0m \u001b[0;34m\u001b[0m\u001b[0m\n\u001b[0;32m----> 9\u001b[0;31m     \u001b[0mprecision\u001b[0m \u001b[0;34m=\u001b[0m \u001b[0mtrue_positives\u001b[0m\u001b[0;34m/\u001b[0m\u001b[0;34m(\u001b[0m\u001b[0mtrue_positives\u001b[0m \u001b[0;34m+\u001b[0m \u001b[0mfalse_positives\u001b[0m\u001b[0;34m)\u001b[0m\u001b[0;34m\u001b[0m\u001b[0m\n\u001b[0m\u001b[1;32m     10\u001b[0m     \u001b[0mrecall\u001b[0m \u001b[0;34m=\u001b[0m  \u001b[0mtrue_positives\u001b[0m\u001b[0;34m/\u001b[0m\u001b[0;34m(\u001b[0m\u001b[0mtrue_positives\u001b[0m \u001b[0;34m+\u001b[0m \u001b[0mfalse_negatives\u001b[0m\u001b[0;34m)\u001b[0m\u001b[0;34m\u001b[0m\u001b[0m\n\u001b[1;32m     11\u001b[0m \u001b[0;34m\u001b[0m\u001b[0m\n",
      "\u001b[0;31mZeroDivisionError\u001b[0m: float division by zero"
     ]
    }
   ],
   "source": [
    "thresholds(y_test, Y_score_ada, 20, 'ada')"
   ]
  },
  {
   "cell_type": "code",
   "execution_count": 30,
   "metadata": {},
   "outputs": [
    {
     "name": "stdout",
     "output_type": "stream",
     "text": [
      " gradient boost\n",
      "0.0 (0.186, 100.0)\n",
      "0.0521052631579 (2.018, 98.742)\n",
      "0.104210526316 (2.4, 98.742)\n",
      "0.156315789474 (2.672, 98.742)\n",
      "0.208421052632 (2.901, 98.742)\n",
      "0.260526315789 (3.091, 98.742)\n",
      "0.312631578947 (3.25, 98.742)\n",
      "0.364736842105 (3.441, 98.742)\n",
      "0.416842105263 (3.628, 98.742)\n",
      "0.468947368421 (3.797, 98.742)\n",
      "0.521052631579 (3.951, 98.742)\n",
      "0.573157894737 (4.132, 98.742)\n",
      "0.625263157895 (4.344, 98.742)\n",
      "0.677368421053 (4.575, 98.742)\n",
      "0.729473684211 (4.841, 98.742)\n",
      "0.781578947368 (5.168, 98.742)\n",
      "0.833684210526 (5.567, 98.113)\n",
      "0.885789473684 (6.147, 98.113)\n",
      "0.937894736842 (7.25, 97.484)\n",
      "0.99 (12.263, 97.484)\n"
     ]
    }
   ],
   "source": [
    "thresholds(y_test, Y_score_boost, 20, 'gradient boost')"
   ]
  },
  {
   "cell_type": "code",
   "execution_count": 31,
   "metadata": {},
   "outputs": [
    {
     "name": "stdout",
     "output_type": "stream",
     "text": [
      "extratrees\n",
      "0.0 (0.186, 100.0)\n",
      "0.0521052631579 (0.282, 100.0)\n",
      "0.104210526316 (0.479, 100.0)\n",
      "0.156315789474 (0.75, 100.0)\n",
      "0.208421052632 (1.097, 99.371)\n",
      "0.260526315789 (1.597, 99.371)\n",
      "0.312631578947 (2.364, 98.742)\n",
      "0.364736842105 (3.463, 98.742)\n",
      "0.416842105263 (4.971, 98.113)\n",
      "0.468947368421 (7.242, 98.113)\n",
      "0.521052631579 (11.183, 98.113)\n",
      "0.573157894737 (16.578, 98.113)\n",
      "0.625263157895 (24.723, 98.113)\n",
      "0.677368421053 (35.24, 96.855)\n",
      "0.729473684211 (43.429, 95.597)\n",
      "0.781578947368 (58.462, 95.597)\n",
      "0.833684210526 (78.756, 95.597)\n",
      "0.885789473684 (80.423, 95.597)\n",
      "0.937894736842 (84.916, 95.597)\n",
      "0.99 (91.875, 92.453)\n"
     ]
    }
   ],
   "source": [
    "thresholds(y_test, Y_score_extratrees, 20, 'extratrees')"
   ]
  },
  {
   "cell_type": "code",
   "execution_count": 33,
   "metadata": {},
   "outputs": [
    {
     "name": "stdout",
     "output_type": "stream",
     "text": [
      "KNN\n",
      "0.0 (0.418, 89.308)\n",
      "0.0521052631579 (0.418, 89.308)\n",
      "0.104210526316 (0.418, 89.308)\n",
      "0.156315789474 (0.418, 89.308)\n",
      "0.208421052632 (0.418, 89.308)\n",
      "0.260526315789 (0.418, 89.308)\n",
      "0.312631578947 (0.418, 89.308)\n",
      "0.364736842105 (0.418, 89.308)\n",
      "0.416842105263 (0.418, 89.308)\n",
      "0.468947368421 (0.418, 89.308)\n",
      "0.521052631579 (0.418, 89.308)\n",
      "0.573157894737 (0.418, 89.308)\n",
      "0.625263157895 (0.418, 89.308)\n",
      "0.677368421053 (0.418, 89.308)\n",
      "0.729473684211 (0.418, 89.308)\n",
      "0.781578947368 (0.418, 89.308)\n",
      "0.833684210526 (0.418, 89.308)\n",
      "0.885789473684 (0.418, 89.308)\n",
      "0.937894736842 (0.418, 89.308)\n",
      "0.99 (0.418, 89.308)\n"
     ]
    }
   ],
   "source": [
    "thresholds(y_test, Y_score_knn1, 20, 'KNN')"
   ]
  },
  {
   "cell_type": "markdown",
   "metadata": {},
   "source": [
    "## testing different threshold for extratrees model"
   ]
  },
  {
   "cell_type": "code",
   "execution_count": 34,
   "metadata": {
    "collapsed": true
   },
   "outputs": [],
   "source": [
    "limit=  0.94\n",
    "Y_score_new = 1.*Y_score_extratrees\n",
    "Y_score_new[Y_score_new < limit] = 0.\n",
    "Y_score_new[Y_score_new > limit] = 1.\n",
    "\n"
   ]
  },
  {
   "cell_type": "code",
   "execution_count": 35,
   "metadata": {},
   "outputs": [
    {
     "data": {
      "image/png": "[encoded data removed]",
      "text/plain": [
       "<matplotlib.figure.Figure at 0x11b0d9f10>"
      ]
     },
     "metadata": {},
     "output_type": "display_data"
    },
    {
     "name": "stdout",
     "output_type": "stream",
     "text": [
      "precision, recall =  (85.393, 95.597)\n"
     ]
    }
   ],
   "source": [
    "cnf_matrix = confusion_matrix(y_test,Y_score_new)\n",
    "np.set_printoptions(precision=2)\n",
    "\n",
    "# Plot non-normalized confusion matrix\n",
    "class_names = [0,1]\n",
    "plt.figure()\n",
    "plot_confusion_matrix(cnf_matrix\n",
    "                      , classes=class_names\n",
    "                      , title='Extratrees adjusted model')\n",
    "plt.show()\n",
    "\n",
    "print \"precision, recall = \", precision_recall(y_test,Y_score_new)\n"
   ]
  },
  {
   "cell_type": "markdown",
   "metadata": {},
   "source": [
    "# 10 fold cross-validation for adjusted extratrees model"
   ]
  },
  {
   "cell_type": "code",
   "execution_count": 36,
   "metadata": {
    "collapsed": true
   },
   "outputs": [],
   "source": [
    "def cross_validator(data, X, y, cv, limit):\n",
    "    \n",
    "    model_precisions = []\n",
    "    model_recalls = []\n",
    "    \n",
    "    i = 0\n",
    "    while i < cv:\n",
    "        #random.seed(i)\n",
    "        X_undersample, Y_undersample = under_sample(data)\n",
    "       \n",
    "        # Whole dataset\n",
    "        X_train, X_test, y_train, y_test = train_test_split(X,y,test_size = 0.3, random_state = i)\n",
    "\n",
    "\n",
    "        # Undersampled dataset\n",
    "        X_train_undersample, X_test_undersample, y_train_undersample, y_test_undersample = train_test_split(X_undersample\n",
    "                                                                                                   ,y_undersample\n",
    "                                                                                                   ,test_size = 0.3\n",
    "                                                                                                   ,random_state = i)\n",
    "        \n",
    "        \n",
    "        extratrees =  ExtraTreesClassifier(n_estimators=2000, criterion='entropy')\n",
    "        extratrees.fit(X_train_undersample,y_train_undersample.values.ravel())\n",
    "       \n",
    "        Y_score_extratrees = extratrees.predict_proba(X_test)[:,1]\n",
    "        Y_score_new = 1.*Y_score_extratrees\n",
    "        Y_score_new[Y_score_new < limit] = 0.\n",
    "        Y_score_new[Y_score_new > limit] = 1.\n",
    "        \n",
    "        model_precision, model_recall = precision_recall(y_test,Y_score_new)\n",
    "        \n",
    "        model_recalls.append(model_recall)\n",
    "        model_precisions.append(model_precision)\n",
    "        \n",
    "        i += 1\n",
    "    \n",
    "    model_recalls    = np.array(model_recalls)\n",
    "    model_precisions = np.array(model_precisions)\n",
    "        \n",
    "    model_recalls_mean    = np.mean(model_recalls)\n",
    "    model_precisions_mean = np.mean(model_precisions)\n",
    "        \n",
    "        \n",
    "    return(model_recalls_mean, model_precisions_mean, model_recalls,model_precisions)\n",
    "        \n",
    "        "
   ]
  },
  {
   "cell_type": "code",
   "execution_count": 37,
   "metadata": {
    "collapsed": true
   },
   "outputs": [],
   "source": [
    "model_recalls_mean, model_precisions_mean, model_recalls,model_precisions = cross_validator(data, X, y, 10, 0.94)"
   ]
  },
  {
   "cell_type": "code",
   "execution_count": 38,
   "metadata": {},
   "outputs": [
    {
     "data": {
      "text/plain": [
       "<matplotlib.legend.Legend at 0x11b193990>"
      ]
     },
     "execution_count": 38,
     "metadata": {},
     "output_type": "execute_result"
    },
    {
     "data": {
      "image/png": "[encoded data removed]",
      "text/plain": [
       "<matplotlib.figure.Figure at 0x11627b450>"
      ]
     },
     "metadata": {},
     "output_type": "display_data"
    }
   ],
   "source": [
    "plt.figure(1)\n",
    "plt.title('Recall vs. Precision, 10-fold cv')\n",
    "plt.scatter(model_recalls, model_precisions,\n",
    "            label = 'individual model instances')\n",
    "plt.scatter(model_recalls_mean, model_precisions_mean, \n",
    "            marker = '*', s=50, color = 'r',\n",
    "            label ='10 fold cv mean')\n",
    "plt.xlabel('recall (%)')\n",
    "plt.ylabel('precision (%)')\n",
    "plt.legend(loc = 'upper right')"
   ]
  },
  {
   "cell_type": "code",
   "execution_count": 39,
   "metadata": {},
   "outputs": [
    {
     "name": "stdout",
     "output_type": "stream",
     "text": [
      "10 fold cross-validation, extratrees model\n",
      "Mean recall:  93.1005\n",
      "Mean precision:  86.0555\n"
     ]
    }
   ],
   "source": [
    "print \"10 fold cross-validation, extratrees model\"\n",
    "print \"Mean recall: \",  model_recalls_mean\n",
    "print \"Mean precision: \", model_precisions_mean"
   ]
  }
 ],
 "metadata": {
  "kernelspec": {
   "display_name": "Python 3",
   "language": "python",
   "name": "python3"
  },
  "language_info": {
   "codemirror_mode": {
    "name": "ipython",
    "version": 3
   },
   "file_extension": ".py",
   "mimetype": "text/x-python",
   "name": "python",
   "nbconvert_exporter": "python",
   "pygments_lexer": "ipython3",
   "version": "3.6.3"
  }
 },
 "nbformat": 4,
 "nbformat_minor": 2
}
